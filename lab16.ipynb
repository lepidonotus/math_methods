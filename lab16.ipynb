{
 "cells": [
  {
   "cell_type": "code",
   "execution_count": 3,
   "metadata": {},
   "outputs": [],
   "source": [
    "import math\n",
    "import matplotlib.pyplot as plt\n",
    "import numpy"
   ]
  },
  {
   "cell_type": "code",
   "execution_count": 6,
   "metadata": {},
   "outputs": [],
   "source": [
    "cH = 35\n",
    "cM = 65"
   ]
  },
  {
   "cell_type": "code",
   "execution_count": 7,
   "metadata": {},
   "outputs": [],
   "source": [
    "p = cH / (cH + cM)\n",
    "q = cM / (cH + cM)"
   ]
  },
  {
   "cell_type": "code",
   "execution_count": 9,
   "metadata": {},
   "outputs": [],
   "source": [
    "p = 3/4\n",
    "q = 1/4"
   ]
  },
  {
   "cell_type": "code",
   "execution_count": 8,
   "metadata": {},
   "outputs": [
    {
     "name": "stdout",
     "output_type": "stream",
     "text": [
      "p =  0.35\n",
      "q =  0.65\n"
     ]
    }
   ],
   "source": [
    "#cH = 5\n",
    "#cM = 95\n",
    "\n",
    "print(\"p = \", p)\n",
    "print(\"q = \", q)\n"
   ]
  },
  {
   "cell_type": "code",
   "execution_count": 9,
   "metadata": {},
   "outputs": [
    {
     "name": "stdout",
     "output_type": "stream",
     "text": [
      "0.015006249999999997 0.11147499999999998 0.31053749999999997 0.384475 0.17850625000000003\n"
     ]
    }
   ],
   "source": [
    "p4 = p ** 4\n",
    "p3q_4 = 4 * (p ** 3) * q\n",
    "p2q2_6 = 6 * (p ** 2) * (q ** 2)\n",
    "pq3_4 = 4 * p * (q ** 3)\n",
    "q4 = q ** 4\n",
    "\n",
    "print(p4, p3q_4, p2q2_6, pq3_4, q4)"
   ]
  },
  {
   "cell_type": "code",
   "execution_count": 10,
   "metadata": {},
   "outputs": [
    {
     "data": {
      "text/plain": [
       "array([ 1.500625, 11.1475  , 31.05375 , 38.4475  , 17.850625])"
      ]
     },
     "execution_count": 10,
     "metadata": {},
     "output_type": "execute_result"
    }
   ],
   "source": [
    "Y = [p4, p3q_4, p2q2_6, pq3_4, q4]\n",
    "Y = numpy.array(Y)\n",
    "Y *= 100\n",
    "Y"
   ]
  },
  {
   "cell_type": "code",
   "execution_count": 11,
   "metadata": {},
   "outputs": [],
   "source": [
    "X = ['ЛДГ-1', 'ЛДГ-2', 'ЛДГ-3', 'ЛДГ-4', 'ЛДГ-5']"
   ]
  },
  {
   "cell_type": "code",
   "execution_count": 12,
   "metadata": {},
   "outputs": [
    {
     "data": {
      "text/plain": [
       "<BarContainer object of 5 artists>"
      ]
     },
     "execution_count": 12,
     "metadata": {},
     "output_type": "execute_result"
    },
    {
     "data": {
      "image/png": "[encoded data removed]",
      "text/plain": [
       "<Figure size 432x288 with 2 Axes>"
      ]
     },
     "metadata": {
      "needs_background": "light"
     },
     "output_type": "display_data"
    }
   ],
   "source": [
    "#plt.xlabel('')\n",
    "plt.ylabel('%')\n",
    "plt.subplot(121)\n",
    "plt.plot(X, Y)\n",
    "plt.subplot(122)\n",
    "plt.bar(X, Y)"
   ]
  },
  {
   "cell_type": "code",
   "execution_count": null,
   "metadata": {},
   "outputs": [],
   "source": []
  }
 ],
 "metadata": {
  "kernelspec": {
   "display_name": "Python 3",
   "language": "python",
   "name": "python3"
  },
  "language_info": {
   "codemirror_mode": {
    "name": "ipython",
    "version": 3
   },
   "file_extension": ".py",
   "mimetype": "text/x-python",
   "name": "python",
   "nbconvert_exporter": "python",
   "pygments_lexer": "ipython3",
   "version": "3.7.4"
  }
 },
 "nbformat": 4,
 "nbformat_minor": 2
}
